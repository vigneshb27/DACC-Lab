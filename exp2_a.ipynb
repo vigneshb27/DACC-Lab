{
 "cells": [
  {
   "cell_type": "code",
   "execution_count": 2,
   "id": "8e561416",
   "metadata": {},
   "outputs": [],
   "source": [
    "import pandas as pd\n",
    "df = pd.read_csv('collegePlace.csv')"
   ]
  },
  {
   "cell_type": "code",
   "execution_count": 3,
   "id": "82de4ee7",
   "metadata": {},
   "outputs": [
    {
     "data": {
      "text/html": [
       "<div>\n",
       "<style scoped>\n",
       "    .dataframe tbody tr th:only-of-type {\n",
       "        vertical-align: middle;\n",
       "    }\n",
       "\n",
       "    .dataframe tbody tr th {\n",
       "        vertical-align: top;\n",
       "    }\n",
       "\n",
       "    .dataframe thead th {\n",
       "        text-align: right;\n",
       "    }\n",
       "</style>\n",
       "<table border=\"1\" class=\"dataframe\">\n",
       "  <thead>\n",
       "    <tr style=\"text-align: right;\">\n",
       "      <th></th>\n",
       "      <th>Age</th>\n",
       "      <th>Gender</th>\n",
       "      <th>Stream</th>\n",
       "      <th>Internships</th>\n",
       "      <th>CGPA</th>\n",
       "      <th>Hostel</th>\n",
       "      <th>HistoryOfBacklogs</th>\n",
       "      <th>PlacedOrNot</th>\n",
       "    </tr>\n",
       "  </thead>\n",
       "  <tbody>\n",
       "    <tr>\n",
       "      <th>0</th>\n",
       "      <td>22</td>\n",
       "      <td>Male</td>\n",
       "      <td>Electronics And Communication</td>\n",
       "      <td>1</td>\n",
       "      <td>8</td>\n",
       "      <td>1</td>\n",
       "      <td>1</td>\n",
       "      <td>1</td>\n",
       "    </tr>\n",
       "    <tr>\n",
       "      <th>1</th>\n",
       "      <td>21</td>\n",
       "      <td>Female</td>\n",
       "      <td>Computer Science</td>\n",
       "      <td>0</td>\n",
       "      <td>7</td>\n",
       "      <td>1</td>\n",
       "      <td>1</td>\n",
       "      <td>1</td>\n",
       "    </tr>\n",
       "    <tr>\n",
       "      <th>2</th>\n",
       "      <td>22</td>\n",
       "      <td>Female</td>\n",
       "      <td>Information Technology</td>\n",
       "      <td>1</td>\n",
       "      <td>6</td>\n",
       "      <td>0</td>\n",
       "      <td>0</td>\n",
       "      <td>1</td>\n",
       "    </tr>\n",
       "    <tr>\n",
       "      <th>3</th>\n",
       "      <td>21</td>\n",
       "      <td>Male</td>\n",
       "      <td>Information Technology</td>\n",
       "      <td>0</td>\n",
       "      <td>8</td>\n",
       "      <td>0</td>\n",
       "      <td>1</td>\n",
       "      <td>1</td>\n",
       "    </tr>\n",
       "    <tr>\n",
       "      <th>4</th>\n",
       "      <td>22</td>\n",
       "      <td>Male</td>\n",
       "      <td>Mechanical</td>\n",
       "      <td>0</td>\n",
       "      <td>8</td>\n",
       "      <td>1</td>\n",
       "      <td>0</td>\n",
       "      <td>1</td>\n",
       "    </tr>\n",
       "  </tbody>\n",
       "</table>\n",
       "</div>"
      ],
      "text/plain": [
       "   Age  Gender                         Stream  Internships  CGPA  Hostel  \\\n",
       "0   22    Male  Electronics And Communication            1     8       1   \n",
       "1   21  Female               Computer Science            0     7       1   \n",
       "2   22  Female         Information Technology            1     6       0   \n",
       "3   21    Male         Information Technology            0     8       0   \n",
       "4   22    Male                     Mechanical            0     8       1   \n",
       "\n",
       "   HistoryOfBacklogs  PlacedOrNot  \n",
       "0                  1            1  \n",
       "1                  1            1  \n",
       "2                  0            1  \n",
       "3                  1            1  \n",
       "4                  0            1  "
      ]
     },
     "execution_count": 3,
     "metadata": {},
     "output_type": "execute_result"
    }
   ],
   "source": [
    "df.head()\n"
   ]
  },
  {
   "cell_type": "code",
   "execution_count": 4,
   "id": "576d33a1",
   "metadata": {},
   "outputs": [
    {
     "data": {
      "text/html": [
       "<div>\n",
       "<style scoped>\n",
       "    .dataframe tbody tr th:only-of-type {\n",
       "        vertical-align: middle;\n",
       "    }\n",
       "\n",
       "    .dataframe tbody tr th {\n",
       "        vertical-align: top;\n",
       "    }\n",
       "\n",
       "    .dataframe thead th {\n",
       "        text-align: right;\n",
       "    }\n",
       "</style>\n",
       "<table border=\"1\" class=\"dataframe\">\n",
       "  <thead>\n",
       "    <tr style=\"text-align: right;\">\n",
       "      <th></th>\n",
       "      <th>Age</th>\n",
       "      <th>Gender</th>\n",
       "      <th>Stream</th>\n",
       "      <th>Internships</th>\n",
       "      <th>CGPA</th>\n",
       "      <th>Hostel</th>\n",
       "      <th>HistoryOfBacklogs</th>\n",
       "      <th>PlacedOrNot</th>\n",
       "    </tr>\n",
       "  </thead>\n",
       "  <tbody>\n",
       "    <tr>\n",
       "      <th>2961</th>\n",
       "      <td>23</td>\n",
       "      <td>Male</td>\n",
       "      <td>Information Technology</td>\n",
       "      <td>0</td>\n",
       "      <td>7</td>\n",
       "      <td>0</td>\n",
       "      <td>0</td>\n",
       "      <td>0</td>\n",
       "    </tr>\n",
       "    <tr>\n",
       "      <th>2962</th>\n",
       "      <td>23</td>\n",
       "      <td>Male</td>\n",
       "      <td>Mechanical</td>\n",
       "      <td>1</td>\n",
       "      <td>7</td>\n",
       "      <td>1</td>\n",
       "      <td>0</td>\n",
       "      <td>0</td>\n",
       "    </tr>\n",
       "    <tr>\n",
       "      <th>2963</th>\n",
       "      <td>22</td>\n",
       "      <td>Male</td>\n",
       "      <td>Information Technology</td>\n",
       "      <td>1</td>\n",
       "      <td>7</td>\n",
       "      <td>0</td>\n",
       "      <td>0</td>\n",
       "      <td>0</td>\n",
       "    </tr>\n",
       "    <tr>\n",
       "      <th>2964</th>\n",
       "      <td>22</td>\n",
       "      <td>Male</td>\n",
       "      <td>Computer Science</td>\n",
       "      <td>1</td>\n",
       "      <td>7</td>\n",
       "      <td>0</td>\n",
       "      <td>0</td>\n",
       "      <td>0</td>\n",
       "    </tr>\n",
       "    <tr>\n",
       "      <th>2965</th>\n",
       "      <td>23</td>\n",
       "      <td>Male</td>\n",
       "      <td>Civil</td>\n",
       "      <td>0</td>\n",
       "      <td>8</td>\n",
       "      <td>0</td>\n",
       "      <td>0</td>\n",
       "      <td>1</td>\n",
       "    </tr>\n",
       "  </tbody>\n",
       "</table>\n",
       "</div>"
      ],
      "text/plain": [
       "      Age Gender                  Stream  Internships  CGPA  Hostel  \\\n",
       "2961   23   Male  Information Technology            0     7       0   \n",
       "2962   23   Male              Mechanical            1     7       1   \n",
       "2963   22   Male  Information Technology            1     7       0   \n",
       "2964   22   Male        Computer Science            1     7       0   \n",
       "2965   23   Male                   Civil            0     8       0   \n",
       "\n",
       "      HistoryOfBacklogs  PlacedOrNot  \n",
       "2961                  0            0  \n",
       "2962                  0            0  \n",
       "2963                  0            0  \n",
       "2964                  0            0  \n",
       "2965                  0            1  "
      ]
     },
     "execution_count": 4,
     "metadata": {},
     "output_type": "execute_result"
    }
   ],
   "source": [
    "df.tail()"
   ]
  },
  {
   "cell_type": "code",
   "execution_count": 5,
   "id": "9b4cf414",
   "metadata": {},
   "outputs": [
    {
     "data": {
      "text/html": [
       "<div>\n",
       "<style scoped>\n",
       "    .dataframe tbody tr th:only-of-type {\n",
       "        vertical-align: middle;\n",
       "    }\n",
       "\n",
       "    .dataframe tbody tr th {\n",
       "        vertical-align: top;\n",
       "    }\n",
       "\n",
       "    .dataframe thead th {\n",
       "        text-align: right;\n",
       "    }\n",
       "</style>\n",
       "<table border=\"1\" class=\"dataframe\">\n",
       "  <thead>\n",
       "    <tr style=\"text-align: right;\">\n",
       "      <th></th>\n",
       "      <th>Age</th>\n",
       "      <th>Gender</th>\n",
       "      <th>Stream</th>\n",
       "      <th>Internships</th>\n",
       "      <th>CGPA</th>\n",
       "      <th>Hostel</th>\n",
       "      <th>HistoryOfBacklogs</th>\n",
       "      <th>PlacedOrNot</th>\n",
       "    </tr>\n",
       "  </thead>\n",
       "  <tbody>\n",
       "    <tr>\n",
       "      <th>0</th>\n",
       "      <td>22</td>\n",
       "      <td>Male</td>\n",
       "      <td>Electronics And Communication</td>\n",
       "      <td>1</td>\n",
       "      <td>8</td>\n",
       "      <td>1</td>\n",
       "      <td>1</td>\n",
       "      <td>1</td>\n",
       "    </tr>\n",
       "    <tr>\n",
       "      <th>1</th>\n",
       "      <td>21</td>\n",
       "      <td>Female</td>\n",
       "      <td>Computer Science</td>\n",
       "      <td>0</td>\n",
       "      <td>7</td>\n",
       "      <td>1</td>\n",
       "      <td>1</td>\n",
       "      <td>1</td>\n",
       "    </tr>\n",
       "  </tbody>\n",
       "</table>\n",
       "</div>"
      ],
      "text/plain": [
       "   Age  Gender                         Stream  Internships  CGPA  Hostel  \\\n",
       "0   22    Male  Electronics And Communication            1     8       1   \n",
       "1   21  Female               Computer Science            0     7       1   \n",
       "\n",
       "   HistoryOfBacklogs  PlacedOrNot  \n",
       "0                  1            1  \n",
       "1                  1            1  "
      ]
     },
     "execution_count": 5,
     "metadata": {},
     "output_type": "execute_result"
    }
   ],
   "source": [
    "df.head(2)"
   ]
  },
  {
   "cell_type": "code",
   "execution_count": 6,
   "id": "d5b9c807",
   "metadata": {},
   "outputs": [
    {
     "data": {
      "text/plain": [
       "(2966, 8)"
      ]
     },
     "execution_count": 6,
     "metadata": {},
     "output_type": "execute_result"
    }
   ],
   "source": [
    "df.shape"
   ]
  },
  {
   "cell_type": "code",
   "execution_count": 7,
   "id": "6666fc17",
   "metadata": {},
   "outputs": [
    {
     "name": "stdout",
     "output_type": "stream",
     "text": [
      "<class 'pandas.core.frame.DataFrame'>\n",
      "RangeIndex: 2966 entries, 0 to 2965\n",
      "Data columns (total 8 columns):\n",
      " #   Column             Non-Null Count  Dtype \n",
      "---  ------             --------------  ----- \n",
      " 0   Age                2966 non-null   int64 \n",
      " 1   Gender             2966 non-null   object\n",
      " 2   Stream             2966 non-null   object\n",
      " 3   Internships        2966 non-null   int64 \n",
      " 4   CGPA               2966 non-null   int64 \n",
      " 5   Hostel             2966 non-null   int64 \n",
      " 6   HistoryOfBacklogs  2966 non-null   int64 \n",
      " 7   PlacedOrNot        2966 non-null   int64 \n",
      "dtypes: int64(6), object(2)\n",
      "memory usage: 185.5+ KB\n"
     ]
    }
   ],
   "source": [
    " df.info()"
   ]
  },
  {
   "cell_type": "code",
   "execution_count": 8,
   "id": "906768a1",
   "metadata": {},
   "outputs": [
    {
     "data": {
      "text/html": [
       "<div>\n",
       "<style scoped>\n",
       "    .dataframe tbody tr th:only-of-type {\n",
       "        vertical-align: middle;\n",
       "    }\n",
       "\n",
       "    .dataframe tbody tr th {\n",
       "        vertical-align: top;\n",
       "    }\n",
       "\n",
       "    .dataframe thead th {\n",
       "        text-align: right;\n",
       "    }\n",
       "</style>\n",
       "<table border=\"1\" class=\"dataframe\">\n",
       "  <thead>\n",
       "    <tr style=\"text-align: right;\">\n",
       "      <th></th>\n",
       "      <th>Age</th>\n",
       "      <th>Internships</th>\n",
       "      <th>CGPA</th>\n",
       "      <th>Hostel</th>\n",
       "      <th>HistoryOfBacklogs</th>\n",
       "      <th>PlacedOrNot</th>\n",
       "    </tr>\n",
       "  </thead>\n",
       "  <tbody>\n",
       "    <tr>\n",
       "      <th>count</th>\n",
       "      <td>2966.000000</td>\n",
       "      <td>2966.000000</td>\n",
       "      <td>2966.000000</td>\n",
       "      <td>2966.000000</td>\n",
       "      <td>2966.000000</td>\n",
       "      <td>2966.000000</td>\n",
       "    </tr>\n",
       "    <tr>\n",
       "      <th>mean</th>\n",
       "      <td>21.485840</td>\n",
       "      <td>0.703641</td>\n",
       "      <td>7.079568</td>\n",
       "      <td>0.269049</td>\n",
       "      <td>0.192178</td>\n",
       "      <td>0.552596</td>\n",
       "    </tr>\n",
       "    <tr>\n",
       "      <th>std</th>\n",
       "      <td>1.324933</td>\n",
       "      <td>0.740197</td>\n",
       "      <td>0.970253</td>\n",
       "      <td>0.443540</td>\n",
       "      <td>0.394079</td>\n",
       "      <td>0.497310</td>\n",
       "    </tr>\n",
       "    <tr>\n",
       "      <th>min</th>\n",
       "      <td>19.000000</td>\n",
       "      <td>0.000000</td>\n",
       "      <td>5.000000</td>\n",
       "      <td>0.000000</td>\n",
       "      <td>0.000000</td>\n",
       "      <td>0.000000</td>\n",
       "    </tr>\n",
       "    <tr>\n",
       "      <th>25%</th>\n",
       "      <td>21.000000</td>\n",
       "      <td>0.000000</td>\n",
       "      <td>6.000000</td>\n",
       "      <td>0.000000</td>\n",
       "      <td>0.000000</td>\n",
       "      <td>0.000000</td>\n",
       "    </tr>\n",
       "    <tr>\n",
       "      <th>50%</th>\n",
       "      <td>21.000000</td>\n",
       "      <td>1.000000</td>\n",
       "      <td>7.000000</td>\n",
       "      <td>0.000000</td>\n",
       "      <td>0.000000</td>\n",
       "      <td>1.000000</td>\n",
       "    </tr>\n",
       "    <tr>\n",
       "      <th>75%</th>\n",
       "      <td>22.000000</td>\n",
       "      <td>1.000000</td>\n",
       "      <td>8.000000</td>\n",
       "      <td>1.000000</td>\n",
       "      <td>0.000000</td>\n",
       "      <td>1.000000</td>\n",
       "    </tr>\n",
       "    <tr>\n",
       "      <th>max</th>\n",
       "      <td>30.000000</td>\n",
       "      <td>3.000000</td>\n",
       "      <td>9.000000</td>\n",
       "      <td>1.000000</td>\n",
       "      <td>1.000000</td>\n",
       "      <td>1.000000</td>\n",
       "    </tr>\n",
       "  </tbody>\n",
       "</table>\n",
       "</div>"
      ],
      "text/plain": [
       "               Age  Internships         CGPA       Hostel  HistoryOfBacklogs  \\\n",
       "count  2966.000000  2966.000000  2966.000000  2966.000000        2966.000000   \n",
       "mean     21.485840     0.703641     7.079568     0.269049           0.192178   \n",
       "std       1.324933     0.740197     0.970253     0.443540           0.394079   \n",
       "min      19.000000     0.000000     5.000000     0.000000           0.000000   \n",
       "25%      21.000000     0.000000     6.000000     0.000000           0.000000   \n",
       "50%      21.000000     1.000000     7.000000     0.000000           0.000000   \n",
       "75%      22.000000     1.000000     8.000000     1.000000           0.000000   \n",
       "max      30.000000     3.000000     9.000000     1.000000           1.000000   \n",
       "\n",
       "       PlacedOrNot  \n",
       "count  2966.000000  \n",
       "mean      0.552596  \n",
       "std       0.497310  \n",
       "min       0.000000  \n",
       "25%       0.000000  \n",
       "50%       1.000000  \n",
       "75%       1.000000  \n",
       "max       1.000000  "
      ]
     },
     "execution_count": 8,
     "metadata": {},
     "output_type": "execute_result"
    }
   ],
   "source": [
    "df.describe()"
   ]
  },
  {
   "cell_type": "code",
   "execution_count": 10,
   "id": "9d5b8bad",
   "metadata": {},
   "outputs": [
    {
     "data": {
      "text/plain": [
       "Age                  0\n",
       "Gender               0\n",
       "Stream               0\n",
       "Internships          0\n",
       "CGPA                 0\n",
       "Hostel               0\n",
       "HistoryOfBacklogs    0\n",
       "PlacedOrNot          0\n",
       "dtype: int64"
      ]
     },
     "execution_count": 10,
     "metadata": {},
     "output_type": "execute_result"
    }
   ],
   "source": [
    "df.isnull().sum()"
   ]
  },
  {
   "cell_type": "code",
   "execution_count": 11,
   "id": "e68ea807",
   "metadata": {},
   "outputs": [
    {
     "data": {
      "text/html": [
       "<div>\n",
       "<style scoped>\n",
       "    .dataframe tbody tr th:only-of-type {\n",
       "        vertical-align: middle;\n",
       "    }\n",
       "\n",
       "    .dataframe tbody tr th {\n",
       "        vertical-align: top;\n",
       "    }\n",
       "\n",
       "    .dataframe thead th {\n",
       "        text-align: right;\n",
       "    }\n",
       "</style>\n",
       "<table border=\"1\" class=\"dataframe\">\n",
       "  <thead>\n",
       "    <tr style=\"text-align: right;\">\n",
       "      <th></th>\n",
       "      <th>Age</th>\n",
       "      <th>Gender</th>\n",
       "      <th>Stream</th>\n",
       "      <th>Internships</th>\n",
       "      <th>CGPA</th>\n",
       "      <th>Hostel</th>\n",
       "      <th>HistoryOfBacklogs</th>\n",
       "      <th>PlacedOrNot</th>\n",
       "    </tr>\n",
       "  </thead>\n",
       "  <tbody>\n",
       "    <tr>\n",
       "      <th>0</th>\n",
       "      <td>22</td>\n",
       "      <td>Male</td>\n",
       "      <td>Electronics And Communication</td>\n",
       "      <td>1</td>\n",
       "      <td>8</td>\n",
       "      <td>1</td>\n",
       "      <td>1</td>\n",
       "      <td>1</td>\n",
       "    </tr>\n",
       "    <tr>\n",
       "      <th>2</th>\n",
       "      <td>22</td>\n",
       "      <td>Female</td>\n",
       "      <td>Information Technology</td>\n",
       "      <td>1</td>\n",
       "      <td>6</td>\n",
       "      <td>0</td>\n",
       "      <td>0</td>\n",
       "      <td>1</td>\n",
       "    </tr>\n",
       "  </tbody>\n",
       "</table>\n",
       "</div>"
      ],
      "text/plain": [
       "   Age  Gender                         Stream  Internships  CGPA  Hostel  \\\n",
       "0   22    Male  Electronics And Communication            1     8       1   \n",
       "2   22  Female         Information Technology            1     6       0   \n",
       "\n",
       "   HistoryOfBacklogs  PlacedOrNot  \n",
       "0                  1            1  \n",
       "2                  0            1  "
      ]
     },
     "execution_count": 11,
     "metadata": {},
     "output_type": "execute_result"
    }
   ],
   "source": [
    "data = df.drop_duplicates(subset = \"HistoryOfBacklogs\")\n",
    "data"
   ]
  },
  {
   "cell_type": "code",
   "execution_count": 12,
   "id": "cf90640a",
   "metadata": {},
   "outputs": [
    {
     "data": {
      "text/plain": [
       "Age\n",
       "21    1084\n",
       "22     941\n",
       "20     375\n",
       "23     195\n",
       "19     156\n",
       "24     131\n",
       "26      50\n",
       "25      29\n",
       "28       3\n",
       "29       1\n",
       "30       1\n",
       "dtype: int64"
      ]
     },
     "execution_count": 12,
     "metadata": {},
     "output_type": "execute_result"
    }
   ],
   "source": [
    "df.value_counts(\"Age\")"
   ]
  },
  {
   "cell_type": "code",
   "execution_count": 13,
   "id": "280bb584",
   "metadata": {},
   "outputs": [
    {
     "data": {
      "image/png": "[encoded data removed]",
      "text/plain": [
       "<Figure size 640x480 with 1 Axes>"
      ]
     },
     "metadata": {},
     "output_type": "display_data"
    }
   ],
   "source": [
    "import seaborn as sns\n",
    "import matplotlib.pyplot as plt \n",
    "sns.countplot(x='Age', data=df) \n",
    "plt.show()"
   ]
  },
  {
   "cell_type": "code",
   "execution_count": 14,
   "id": "a4a815d5",
   "metadata": {},
   "outputs": [
    {
     "data": {
      "image/png": "[encoded data removed]",
      "text/plain": [
       "<Figure size 640x480 with 1 Axes>"
      ]
     },
     "metadata": {},
     "output_type": "display_data"
    }
   ],
   "source": [
    "sns.scatterplot(x='Age', y='PlacedOrNot', hue='CGPA', data=df)\n",
    "plt.show() \n"
   ]
  },
  {
   "cell_type": "code",
   "execution_count": 28,
   "id": "cd0ac7cc",
   "metadata": {},
   "outputs": [
    {
     "data": {
      "text/plain": [
       "(array([ 96.,   0.,   0., 830.,   0.,   0.,   0., 951.,   0.,   0.,   0.,\n",
       "        920.,   0.,   0., 169.]),\n",
       " array([5.        , 5.26666667, 5.53333333, 5.8       , 6.06666667,\n",
       "        6.33333333, 6.6       , 6.86666667, 7.13333333, 7.4       ,\n",
       "        7.66666667, 7.93333333, 8.2       , 8.46666667, 8.73333333,\n",
       "        9.        ]),\n",
       " <BarContainer object of 15 artists>)"
      ]
     },
     "execution_count": 28,
     "metadata": {},
     "output_type": "execute_result"
    },
    {
     "data": {
      "image/png": "[encoded data removed]",
      "text/plain": [
       "<Figure size 4000x1000 with 2 Axes>"
      ]
     },
     "metadata": {},
     "output_type": "display_data"
    }
   ],
   "source": [
    "fig, axes = plt.subplots(1, 2, figsize=(40,10))\n",
    " \n",
    "axes[0].set_title(\"Age Histogram\")\n",
    "axes[0].hist(df['Age'], bins=15)\n",
    "axes[1].set_title(\"CGPA Histogram\")\n",
    "axes[1].hist(df['CGPA'], bins=15)\n"
   ]
  },
  {
   "cell_type": "code",
   "execution_count": 30,
   "id": "19ff88f1",
   "metadata": {},
   "outputs": [
    {
     "data": {
      "image/png": "[encoded data removed]",
      "text/plain": [
       "<Figure size 640x480 with 2 Axes>"
      ]
     },
     "metadata": {},
     "output_type": "display_data"
    }
   ],
   "source": [
    "sns.heatmap(df.corr(method='pearson'), annot = True);\n",
    "plt.show()"
   ]
  },
  {
   "cell_type": "code",
   "execution_count": 39,
   "id": "84f8fbe5",
   "metadata": {},
   "outputs": [
    {
     "name": "stdout",
     "output_type": "stream",
     "text": [
      "<class 'pandas.core.frame.DataFrame'>\n",
      "RangeIndex: 2966 entries, 0 to 2965\n",
      "Data columns (total 8 columns):\n",
      " #   Column             Non-Null Count  Dtype \n",
      "---  ------             --------------  ----- \n",
      " 0   Age                2966 non-null   int64 \n",
      " 1   Gender             2966 non-null   object\n",
      " 2   Stream             2966 non-null   object\n",
      " 3   Internships        2966 non-null   int64 \n",
      " 4   CGPA               2966 non-null   int64 \n",
      " 5   Hostel             2966 non-null   int64 \n",
      " 6   HistoryOfBacklogs  2966 non-null   int64 \n",
      " 7   PlacedOrNot        2966 non-null   int64 \n",
      "dtypes: int64(6), object(2)\n",
      "memory usage: 185.5+ KB\n"
     ]
    }
   ],
   "source": [
    "#dimensionality reduction\n",
    "\n",
    "a = df.isnull().sum()/len(df)*100\n",
    "variables = df.columns \n",
    "variable = [] \n",
    "for i in range(0,len(variables)): \n",
    " if a[i]<=70: #setting the threshold as 70% \n",
    "     variable.append(variables[i]) \n",
    "c = [ ] \n",
    "data = df \n",
    "for i in variables: \n",
    " if i not in variable: \n",
    "     c.append(i) \n",
    "for i in c: \n",
    " data = df.drop([i], axis = 1) \n",
    "data.info()\n"
   ]
  },
  {
   "cell_type": "code",
   "execution_count": 41,
   "id": "e72f814b",
   "metadata": {},
   "outputs": [
    {
     "data": {
      "text/plain": [
       "array(['Age', 'CGPA', 'Gender', 'HistoryOfBacklogs', 'Hostel',\n",
       "       'Internships', 'PlacedOrNot', 'Stream'], dtype=object)"
      ]
     },
     "execution_count": 41,
     "metadata": {},
     "output_type": "execute_result"
    }
   ],
   "source": [
    "import numpy as np\n",
    "out_arr = np.partition(data.columns, 3)\n",
    "out_arr"
   ]
  },
  {
   "cell_type": "code",
   "execution_count": null,
   "id": "07fbd8cc",
   "metadata": {},
   "outputs": [],
   "source": []
  }
 ],
 "metadata": {
  "kernelspec": {
   "display_name": "Python 3 (ipykernel)",
   "language": "python",
   "name": "python3"
  },
  "language_info": {
   "codemirror_mode": {
    "name": "ipython",
    "version": 3
   },
   "file_extension": ".py",
   "mimetype": "text/x-python",
   "name": "python",
   "nbconvert_exporter": "python",
   "pygments_lexer": "ipython3",
   "version": "3.9.13"
  }
 },
 "nbformat": 4,
 "nbformat_minor": 5
}
