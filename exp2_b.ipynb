{
 "cells": [
  {
   "cell_type": "code",
   "execution_count": 1,
   "id": "b48a4191",
   "metadata": {},
   "outputs": [
    {
     "data": {
      "text/plain": [
       "21    1084\n",
       "22     941\n",
       "20     375\n",
       "23     195\n",
       "19     156\n",
       "24     131\n",
       "26      50\n",
       "25      29\n",
       "28       3\n",
       "30       1\n",
       "29       1\n",
       "Name: Age, dtype: int64"
      ]
     },
     "execution_count": 1,
     "metadata": {},
     "output_type": "execute_result"
    }
   ],
   "source": [
    "#frequency\n",
    "\n",
    "import pandas as pd\n",
    "df = pd.read_csv(\"collegePlace.csv\")\n",
    "df['Age'].value_counts()"
   ]
  },
  {
   "cell_type": "code",
   "execution_count": 2,
   "id": "ea5b0141",
   "metadata": {},
   "outputs": [
    {
     "data": {
      "text/plain": [
       "21.48583951449764"
      ]
     },
     "execution_count": 2,
     "metadata": {},
     "output_type": "execute_result"
    }
   ],
   "source": [
    "#Mean\n",
    "\n",
    "df['Age'].mean()"
   ]
  },
  {
   "cell_type": "code",
   "execution_count": 3,
   "id": "a9cff8e2",
   "metadata": {},
   "outputs": [
    {
     "data": {
      "text/plain": [
       "7.0"
      ]
     },
     "execution_count": 3,
     "metadata": {},
     "output_type": "execute_result"
    }
   ],
   "source": [
    "#Median\n",
    "\n",
    "df['CGPA'].median()"
   ]
  },
  {
   "cell_type": "code",
   "execution_count": 4,
   "id": "fe821224",
   "metadata": {},
   "outputs": [
    {
     "data": {
      "text/plain": [
       "0    21\n",
       "Name: Age, dtype: int64"
      ]
     },
     "execution_count": 4,
     "metadata": {},
     "output_type": "execute_result"
    }
   ],
   "source": [
    "#Mode\n",
    "\n",
    "df['Age'].mode()"
   ]
  },
  {
   "cell_type": "code",
   "execution_count": 5,
   "id": "4db36530",
   "metadata": {},
   "outputs": [
    {
     "data": {
      "text/plain": [
       "0.9413901678266984"
      ]
     },
     "execution_count": 5,
     "metadata": {},
     "output_type": "execute_result"
    }
   ],
   "source": [
    "#Variance\n",
    "\n",
    "df['CGPA'].var()"
   ]
  },
  {
   "cell_type": "code",
   "execution_count": 6,
   "id": "1f71d133",
   "metadata": {},
   "outputs": [
    {
     "data": {
      "text/plain": [
       "0.9702526309300575"
      ]
     },
     "execution_count": 6,
     "metadata": {},
     "output_type": "execute_result"
    }
   ],
   "source": [
    "df['CGPA'].std()"
   ]
  },
  {
   "cell_type": "code",
   "execution_count": 7,
   "id": "1030bfc2",
   "metadata": {},
   "outputs": [
    {
     "data": {
      "text/html": [
       "<div>\n",
       "<style scoped>\n",
       "    .dataframe tbody tr th:only-of-type {\n",
       "        vertical-align: middle;\n",
       "    }\n",
       "\n",
       "    .dataframe tbody tr th {\n",
       "        vertical-align: top;\n",
       "    }\n",
       "\n",
       "    .dataframe thead th {\n",
       "        text-align: right;\n",
       "    }\n",
       "</style>\n",
       "<table border=\"1\" class=\"dataframe\">\n",
       "  <thead>\n",
       "    <tr style=\"text-align: right;\">\n",
       "      <th></th>\n",
       "      <th>Age</th>\n",
       "      <th>Stream</th>\n",
       "      <th>Internships</th>\n",
       "      <th>CGPA</th>\n",
       "      <th>Hostel</th>\n",
       "      <th>HistoryOfBacklogs</th>\n",
       "      <th>PlacedOrNot</th>\n",
       "      <th>Gender_Female</th>\n",
       "      <th>Gender_Male</th>\n",
       "    </tr>\n",
       "  </thead>\n",
       "  <tbody>\n",
       "    <tr>\n",
       "      <th>0</th>\n",
       "      <td>22</td>\n",
       "      <td>Electronics And Communication</td>\n",
       "      <td>1</td>\n",
       "      <td>8</td>\n",
       "      <td>1</td>\n",
       "      <td>1</td>\n",
       "      <td>1</td>\n",
       "      <td>0</td>\n",
       "      <td>1</td>\n",
       "    </tr>\n",
       "    <tr>\n",
       "      <th>1</th>\n",
       "      <td>21</td>\n",
       "      <td>Computer Science</td>\n",
       "      <td>0</td>\n",
       "      <td>7</td>\n",
       "      <td>1</td>\n",
       "      <td>1</td>\n",
       "      <td>1</td>\n",
       "      <td>1</td>\n",
       "      <td>0</td>\n",
       "    </tr>\n",
       "    <tr>\n",
       "      <th>2</th>\n",
       "      <td>22</td>\n",
       "      <td>Information Technology</td>\n",
       "      <td>1</td>\n",
       "      <td>6</td>\n",
       "      <td>0</td>\n",
       "      <td>0</td>\n",
       "      <td>1</td>\n",
       "      <td>1</td>\n",
       "      <td>0</td>\n",
       "    </tr>\n",
       "    <tr>\n",
       "      <th>3</th>\n",
       "      <td>21</td>\n",
       "      <td>Information Technology</td>\n",
       "      <td>0</td>\n",
       "      <td>8</td>\n",
       "      <td>0</td>\n",
       "      <td>1</td>\n",
       "      <td>1</td>\n",
       "      <td>0</td>\n",
       "      <td>1</td>\n",
       "    </tr>\n",
       "    <tr>\n",
       "      <th>4</th>\n",
       "      <td>22</td>\n",
       "      <td>Mechanical</td>\n",
       "      <td>0</td>\n",
       "      <td>8</td>\n",
       "      <td>1</td>\n",
       "      <td>0</td>\n",
       "      <td>1</td>\n",
       "      <td>0</td>\n",
       "      <td>1</td>\n",
       "    </tr>\n",
       "    <tr>\n",
       "      <th>...</th>\n",
       "      <td>...</td>\n",
       "      <td>...</td>\n",
       "      <td>...</td>\n",
       "      <td>...</td>\n",
       "      <td>...</td>\n",
       "      <td>...</td>\n",
       "      <td>...</td>\n",
       "      <td>...</td>\n",
       "      <td>...</td>\n",
       "    </tr>\n",
       "    <tr>\n",
       "      <th>2961</th>\n",
       "      <td>23</td>\n",
       "      <td>Information Technology</td>\n",
       "      <td>0</td>\n",
       "      <td>7</td>\n",
       "      <td>0</td>\n",
       "      <td>0</td>\n",
       "      <td>0</td>\n",
       "      <td>0</td>\n",
       "      <td>1</td>\n",
       "    </tr>\n",
       "    <tr>\n",
       "      <th>2962</th>\n",
       "      <td>23</td>\n",
       "      <td>Mechanical</td>\n",
       "      <td>1</td>\n",
       "      <td>7</td>\n",
       "      <td>1</td>\n",
       "      <td>0</td>\n",
       "      <td>0</td>\n",
       "      <td>0</td>\n",
       "      <td>1</td>\n",
       "    </tr>\n",
       "    <tr>\n",
       "      <th>2963</th>\n",
       "      <td>22</td>\n",
       "      <td>Information Technology</td>\n",
       "      <td>1</td>\n",
       "      <td>7</td>\n",
       "      <td>0</td>\n",
       "      <td>0</td>\n",
       "      <td>0</td>\n",
       "      <td>0</td>\n",
       "      <td>1</td>\n",
       "    </tr>\n",
       "    <tr>\n",
       "      <th>2964</th>\n",
       "      <td>22</td>\n",
       "      <td>Computer Science</td>\n",
       "      <td>1</td>\n",
       "      <td>7</td>\n",
       "      <td>0</td>\n",
       "      <td>0</td>\n",
       "      <td>0</td>\n",
       "      <td>0</td>\n",
       "      <td>1</td>\n",
       "    </tr>\n",
       "    <tr>\n",
       "      <th>2965</th>\n",
       "      <td>23</td>\n",
       "      <td>Civil</td>\n",
       "      <td>0</td>\n",
       "      <td>8</td>\n",
       "      <td>0</td>\n",
       "      <td>0</td>\n",
       "      <td>1</td>\n",
       "      <td>0</td>\n",
       "      <td>1</td>\n",
       "    </tr>\n",
       "  </tbody>\n",
       "</table>\n",
       "<p>2966 rows × 9 columns</p>\n",
       "</div>"
      ],
      "text/plain": [
       "      Age                         Stream  Internships  CGPA  Hostel  \\\n",
       "0      22  Electronics And Communication            1     8       1   \n",
       "1      21               Computer Science            0     7       1   \n",
       "2      22         Information Technology            1     6       0   \n",
       "3      21         Information Technology            0     8       0   \n",
       "4      22                     Mechanical            0     8       1   \n",
       "...   ...                            ...          ...   ...     ...   \n",
       "2961   23         Information Technology            0     7       0   \n",
       "2962   23                     Mechanical            1     7       1   \n",
       "2963   22         Information Technology            1     7       0   \n",
       "2964   22               Computer Science            1     7       0   \n",
       "2965   23                          Civil            0     8       0   \n",
       "\n",
       "      HistoryOfBacklogs  PlacedOrNot  Gender_Female  Gender_Male  \n",
       "0                     1            1              0            1  \n",
       "1                     1            1              1            0  \n",
       "2                     0            1              1            0  \n",
       "3                     1            1              0            1  \n",
       "4                     0            1              0            1  \n",
       "...                 ...          ...            ...          ...  \n",
       "2961                  0            0              0            1  \n",
       "2962                  0            0              0            1  \n",
       "2963                  0            0              0            1  \n",
       "2964                  0            0              0            1  \n",
       "2965                  0            1              0            1  \n",
       "\n",
       "[2966 rows x 9 columns]"
      ]
     },
     "execution_count": 7,
     "metadata": {},
     "output_type": "execute_result"
    }
   ],
   "source": [
    "encD = pd.get_dummies(df, columns = ['Gender'])\n",
    "encD"
   ]
  },
  {
   "cell_type": "code",
   "execution_count": 8,
   "id": "4ab09deb",
   "metadata": {},
   "outputs": [
    {
     "name": "stdout",
     "output_type": "stream",
     "text": [
      "Intercept: 0.035705723677719736\n",
      "\n",
      "Coefficient: 0.006042914676226454\n"
     ]
    },
    {
     "data": {
      "image/png": "[encoded data removed]",
      "text/plain": [
       "<Figure size 1200x700 with 1 Axes>"
      ]
     },
     "metadata": {},
     "output_type": "display_data"
    }
   ],
   "source": [
    "import numpy as np\n",
    "import matplotlib.pyplot as plt\n",
    "\n",
    "x = encD['Age']\n",
    "y = encD['Gender_Female']\n",
    "def mean(vals):\n",
    "    return sum(vals)/float(len(vals))\n",
    "def variance(vals):\n",
    "    val_mean = mean(vals)\n",
    "    return sum([(x-val_mean)**2 for x in vals])\n",
    "def covariance(x,x_mean,y,y_mean):\n",
    "    cov = 0.0\n",
    "    for i in range(len(x)):\n",
    "        cov += (x[i]-x_mean) * (y[i]-y_mean)\n",
    "    return cov\n",
    "def getBetas(x,y):\n",
    "    x_mean = mean(x)\n",
    "    y_mean = mean(y)\n",
    "    cov = covariance(x,x_mean,y,y_mean)\n",
    "    x_var = variance(x)\n",
    "    b1 = cov/x_var\n",
    "    b0 = np.mean(y) - b1 * np.mean(x)\n",
    "    return b0,b1\n",
    "def predict(x,y):\n",
    "    intercept,coeff = getBetas(x,y)\n",
    "    preds = intercept+(coeff*x)\n",
    "    return preds\n",
    "intercept, coeff = getBetas(x,y)\n",
    "print(f'Intercept: {intercept}\\n\\nCoefficient: {coeff}')\n",
    "fcov_preds = predict(x,y)\n",
    "\n",
    "#with plt.style.context('dark_background'):\n",
    "plt.figure(figsize=(12,7))\n",
    "plt.plot(x,y,'yo',x,fcov_preds,'r-',fillstyle='full')\n",
    "plt.xlabel('Age')\n",
    "plt.ylabel('obs_consequence_Yes')\n",
    "plt.title('Univariate Linear Regression');"
   ]
  },
  {
   "cell_type": "code",
   "execution_count": 9,
   "id": "3ca3769f",
   "metadata": {},
   "outputs": [
    {
     "data": {
      "text/html": [
       "<div>\n",
       "<style scoped>\n",
       "    .dataframe tbody tr th:only-of-type {\n",
       "        vertical-align: middle;\n",
       "    }\n",
       "\n",
       "    .dataframe tbody tr th {\n",
       "        vertical-align: top;\n",
       "    }\n",
       "\n",
       "    .dataframe thead th {\n",
       "        text-align: right;\n",
       "    }\n",
       "</style>\n",
       "<table border=\"1\" class=\"dataframe\">\n",
       "  <thead>\n",
       "    <tr style=\"text-align: right;\">\n",
       "      <th></th>\n",
       "      <th>Age</th>\n",
       "    </tr>\n",
       "    <tr>\n",
       "      <th>PlacedOrNot</th>\n",
       "      <th></th>\n",
       "    </tr>\n",
       "  </thead>\n",
       "  <tbody>\n",
       "    <tr>\n",
       "      <th>0</th>\n",
       "      <td>21.416729</td>\n",
       "    </tr>\n",
       "    <tr>\n",
       "      <th>1</th>\n",
       "      <td>21.541794</td>\n",
       "    </tr>\n",
       "  </tbody>\n",
       "</table>\n",
       "</div>"
      ],
      "text/plain": [
       "                   Age\n",
       "PlacedOrNot           \n",
       "0            21.416729\n",
       "1            21.541794"
      ]
     },
     "execution_count": 9,
     "metadata": {},
     "output_type": "execute_result"
    }
   ],
   "source": [
    "df[['PlacedOrNot', 'Age']].groupby('PlacedOrNot').mean()"
   ]
  },
  {
   "cell_type": "code",
   "execution_count": 10,
   "id": "300593e3",
   "metadata": {},
   "outputs": [
    {
     "data": {
      "text/plain": [
       "Gender  Hostel\n",
       "Female  0         21.517241\n",
       "        1         21.586957\n",
       "Male    0         21.478762\n",
       "        1         21.454225\n",
       "Name: Age, dtype: float64"
      ]
     },
     "execution_count": 10,
     "metadata": {},
     "output_type": "execute_result"
    }
   ],
   "source": [
    "df.groupby(['Gender', 'Hostel'])['Age'].mean()"
   ]
  },
  {
   "cell_type": "code",
   "execution_count": 11,
   "id": "a6a0cac0",
   "metadata": {},
   "outputs": [
    {
     "data": {
      "text/plain": [
       "<AxesSubplot:ylabel='Density'>"
      ]
     },
     "execution_count": 11,
     "metadata": {},
     "output_type": "execute_result"
    },
    {
     "data": {
      "image/png": "[encoded data removed]",
      "text/plain": [
       "<Figure size 500x500 with 1 Axes>"
      ]
     },
     "metadata": {},
     "output_type": "display_data"
    }
   ],
   "source": [
    "plt.figure(figsize = (5,5))\n",
    "df['Age'].plot(kind = 'density')"
   ]
  },
  {
   "cell_type": "code",
   "execution_count": 12,
   "id": "664c7a60",
   "metadata": {},
   "outputs": [
    {
     "data": {
      "text/plain": [
       "<AxesSubplot:>"
      ]
     },
     "execution_count": 12,
     "metadata": {},
     "output_type": "execute_result"
    },
    {
     "data": {
      "image/png": "[encoded data removed]",
      "text/plain": [
       "<Figure size 640x480 with 1 Axes>"
      ]
     },
     "metadata": {},
     "output_type": "display_data"
    }
   ],
   "source": [
    "df['CGPA'].value_counts( ).plot()"
   ]
  },
  {
   "cell_type": "code",
   "execution_count": null,
   "id": "1e2fad5a",
   "metadata": {},
   "outputs": [],
   "source": []
  }
 ],
 "metadata": {
  "kernelspec": {
   "display_name": "Python 3 (ipykernel)",
   "language": "python",
   "name": "python3"
  },
  "language_info": {
   "codemirror_mode": {
    "name": "ipython",
    "version": 3
   },
   "file_extension": ".py",
   "mimetype": "text/x-python",
   "name": "python",
   "nbconvert_exporter": "python",
   "pygments_lexer": "ipython3",
   "version": "3.9.13"
  }
 },
 "nbformat": 4,
 "nbformat_minor": 5
}
