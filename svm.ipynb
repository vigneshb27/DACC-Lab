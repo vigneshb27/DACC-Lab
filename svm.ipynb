{
 "cells": [
  {
   "cell_type": "markdown",
   "id": "468fb0b2",
   "metadata": {},
   "source": [
    "# SVM\n"
   ]
  },
  {
   "cell_type": "code",
   "execution_count": 1,
   "id": "2b31ffae",
   "metadata": {},
   "outputs": [],
   "source": [
    "import numpy as np\n",
    "import pandas as pd\n",
    "import seaborn as sns\n",
    "import matplotlib.pyplot as plt\n",
    "from sklearn import datasets\n",
    "\n",
    "df = pd.read_csv(\"collegePlace.csv\") "
   ]
  },
  {
   "cell_type": "code",
   "execution_count": 50,
   "id": "fb0ae65f",
   "metadata": {},
   "outputs": [],
   "source": [
    "import numpy\n",
    "from sklearn import preprocessing\n",
    "label_encoder = preprocessing.LabelEncoder()\n",
    "\n",
    "for i in df.columns:\n",
    "     if type(df[i][2])==numpy.bool_ or type(df[i][0])==str:\n",
    "             df[i]= label_encoder.fit_transform(df[i])\n",
    "                "
   ]
  },
  {
   "cell_type": "markdown",
   "id": "32345eb7",
   "metadata": {},
   "source": [
    "# Classification"
   ]
  },
  {
   "cell_type": "code",
   "execution_count": 51,
   "id": "5ce5214b",
   "metadata": {},
   "outputs": [],
   "source": [
    "X=df.drop('PlacedOrNot',axis=1)\n",
    "y=df['PlacedOrNot']\n",
    "X_train, X_test, y_train, y_test = train_test_split(X, y, test_size=0.3, random_state=0)\n",
    "from sklearn import svm\n",
    "clf = svm.SVC()\n",
    "y_pred=clf.fit(X, y).predict(X_test)"
   ]
  },
  {
   "cell_type": "code",
   "execution_count": 52,
   "id": "6aa0553d",
   "metadata": {},
   "outputs": [],
   "source": [
    "import sklearn.metrics as sm\n",
    "import math\n",
    "x=math.sqrt(sm.mean_squared_error(y_test, y_pred))"
   ]
  },
  {
   "cell_type": "code",
   "execution_count": 53,
   "id": "5c621c0c",
   "metadata": {},
   "outputs": [],
   "source": [
    "import sklearn.metrics as sm\n",
    "import math\n",
    "x=math.sqrt(sm.mean_squared_error(y_test, y_pred))\n"
   ]
  },
  {
   "cell_type": "code",
   "execution_count": 55,
   "id": "046f5a6e",
   "metadata": {},
   "outputs": [
    {
     "data": {
      "text/plain": [
       "0.4596041286326525"
      ]
     },
     "execution_count": 55,
     "metadata": {},
     "output_type": "execute_result"
    }
   ],
   "source": [
    "#normalised root mean squared error\n",
    "x/(df.PlacedOrNot.min()+df.PlacedOrNot.max())"
   ]
  },
  {
   "cell_type": "markdown",
   "id": "bfd3f32c",
   "metadata": {},
   "source": [
    "# Regression"
   ]
  },
  {
   "cell_type": "code",
   "execution_count": 57,
   "id": "17386c91",
   "metadata": {},
   "outputs": [],
   "source": [
    "X=df.drop('PlacedOrNot',axis=1)\n",
    "y=df['PlacedOrNot']\n",
    "X_train, X_test, y_train, y_test = train_test_split(X, y, test_size=0.3, random_state=0)\n",
    "from sklearn import svm\n",
    "clf = svm.SVR()\n",
    "y_pred=clf.fit(X, y).predict(X_test)"
   ]
  },
  {
   "cell_type": "code",
   "execution_count": 58,
   "id": "8f9c33fc",
   "metadata": {},
   "outputs": [],
   "source": [
    "import sklearn.metrics as sm\n",
    "import math\n",
    "x=math.sqrt(sm.mean_squared_error(y_test, y_pred))"
   ]
  },
  {
   "cell_type": "code",
   "execution_count": 60,
   "id": "6c28a257",
   "metadata": {},
   "outputs": [
    {
     "data": {
      "text/plain": [
       "0.3863376888438678"
      ]
     },
     "execution_count": 60,
     "metadata": {},
     "output_type": "execute_result"
    }
   ],
   "source": [
    "#normalised root mean squared error\n",
    "x/(df.PlacedOrNot.min()+df.PlacedOrNot.max())"
   ]
  },
  {
   "cell_type": "code",
   "execution_count": null,
   "id": "0081c57b",
   "metadata": {},
   "outputs": [],
   "source": []
  }
 ],
 "metadata": {
  "kernelspec": {
   "display_name": "Python 3 (ipykernel)",
   "language": "python",
   "name": "python3"
  },
  "language_info": {
   "codemirror_mode": {
    "name": "ipython",
    "version": 3
   },
   "file_extension": ".py",
   "mimetype": "text/x-python",
   "name": "python",
   "nbconvert_exporter": "python",
   "pygments_lexer": "ipython3",
   "version": "3.9.13"
  }
 },
 "nbformat": 4,
 "nbformat_minor": 5
}
